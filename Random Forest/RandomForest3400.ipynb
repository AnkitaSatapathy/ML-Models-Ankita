{
 "cells": [
  {
   "cell_type": "code",
   "execution_count": null,
   "id": "4089cc63-8151-48e4-a7cc-2ff30e998b0b",
   "metadata": {},
   "outputs": [],
   "source": [
    "import numpy as np\n",
    "import pandas as pd\n",
    "from sklearn.datasets import fetch_california_housing\n",
    "from sklearn.model_selection import train_test_split\n",
    "from sklearn.metrics import mean_squared_error\n",
    "import pickle\n",
    "\n",
    "housing = fetch_california_housing()\n",
    "X = housing.data\n",
    "y = housing.target\n",
    "\n",
    "X_train, X_test, y_train, y_test = train_test_split(X, y, test_size=0.2, random_state=42)\n",
    "\n",
    "class SimpleRandomForest:\n",
    "    def __init__(self, n_trees=10, max_depth=None):\n",
    "        from sklearn.tree import DecisionTreeRegressor\n",
    "        self.n_trees = n_trees\n",
    "        self.max_depth = max_depth\n",
    "        self.trees = [DecisionTreeRegressor(max_depth=max_depth) for _ in range(n_trees)]\n",
    "    def fit(self, X, y):\n",
    "        for tree in self.trees:\n",
    "            indices = np.random.choice(len(X), len(X), replace=True)  \n",
    "            X_sample, y_sample = X[indices], y[indices]\n",
    "            tree.fit(X_sample, y_sample)\n",
    "    def predict(self, X):\n",
    "        tree_preds = np.array([tree.predict(X) for tree in self.trees])\n",
    "        return np.mean(tree_preds, axis=0)  \n",
    "\n",
    "model = SimpleRandomForest(n_trees=10, max_depth=5)\n",
    "model.fit(X_train, y_train)\n",
    "\n",
    "with open(\"california_housing_rf_model.pkl\", \"wb\") as f:\n",
    "    pickle.dump(model, f)\n"
   ]
  },
  {
   "cell_type": "code",
   "execution_count": null,
   "id": "4bffadaa-b2f6-4e91-acb6-970e5431da1f",
   "metadata": {},
   "outputs": [],
   "source": []
  }
 ],
 "metadata": {
  "kernelspec": {
   "display_name": "Python 3 (ipykernel)",
   "language": "python",
   "name": "python3"
  },
  "language_info": {
   "codemirror_mode": {
    "name": "ipython",
    "version": 3
   },
   "file_extension": ".py",
   "mimetype": "text/x-python",
   "name": "python",
   "nbconvert_exporter": "python",
   "pygments_lexer": "ipython3",
   "version": "3.12.7"
  }
 },
 "nbformat": 4,
 "nbformat_minor": 5
}
