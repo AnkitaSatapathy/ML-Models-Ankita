{
 "cells": [
  {
   "cell_type": "code",
   "execution_count": null,
   "id": "51fd3bde-c9da-4f5f-adbb-d8ba01f6c734",
   "metadata": {},
   "outputs": [],
   "source": [
    "import numpy as np\n",
    "from sklearn.datasets import load_breast_cancer\n",
    "import pickle\n",
    "\n",
    "class LogisticRegressionCustom:\n",
    "    def __init__(self, learning_rate=0.01, epochs=1000, reg_type=None, lambda_=0.01):\n",
    "        self.learning_rate = learning_rate\n",
    "        self.epochs = epochs\n",
    "        self.reg_type = reg_type  \n",
    "        self.lambda_ = lambda_\n",
    "        self.weights = None\n",
    "        self.bias = None\n",
    "\n",
    "    def sigmoid(self, z):\n",
    "        return 1 / (1 + np.exp(-z))\n",
    "\n",
    "    def fit(self, X, y):\n",
    "        n_samples, n_features = X.shape\n",
    "        self.weights = np.zeros(n_features)\n",
    "        self.bias = 0\n",
    "\n",
    "        for _ in range(self.epochs):\n",
    "            model = np.dot(X, self.weights) + self.bias\n",
    "            y_predicted = self.sigmoid(model)\n",
    "            error = y_predicted - y \n",
    "            dw = (1/n_samples) * np.dot(X.T, error)\n",
    "            db = (1/n_samples) * np.sum(error)\n",
    "            if self.reg_type == \"L1\":\n",
    "                dw += self.lambda_ * np.sign(self.weights)\n",
    "            elif self.reg_type == \"L2\":                                                        \n",
    "                dw += self.lambda_ * self.weights\n",
    "            elif self.reg_type == \"L1+L2\":\n",
    "                dw += self.lambda_ * (np.sign(self.weights) + self.weights)                      \n",
    "            self.weights -= self.learning_rate * dw\n",
    "            self.bias -= self.learning_rate * db\n",
    "\n",
    "    def predict_proba(self, X):\n",
    "        \"\"\" Returns the probability of the sample being in class 1 \"\"\"\n",
    "        model = np.dot(X, self.weights) + self.bias\n",
    "        return self.sigmoid(model)\n",
    "\n",
    "    def predict(self, X, threshold=0.6):\n",
    "        \"\"\" Returns class labels based on a probability threshold \"\"\"\n",
    "        probabilities = self.predict_proba(X)\n",
    "        return (probabilities >= threshold).astype(int)\n",
    "\n",
    "data = load_breast_cancer()\n",
    "X = data.data[:, np.newaxis, 0]  \n",
    "y = data.target\n",
    "\n",
    "X = (X - np.min(X)) / (np.max(X) - np.min(X))  \n",
    "\n",
    "model = LogisticRegressionCustom(reg_type=\"L2\", lambda_=0.01)\n",
    "model.fit(X, y)\n",
    "\n",
    "with open(\"model.pkl\", \"wb\") as file:\n",
    "    pickle.dump(model, file)\n"
   ]
  },
  {
   "cell_type": "code",
   "execution_count": null,
   "id": "39caefe6-e370-4c17-a44b-74dc3d54cc41",
   "metadata": {},
   "outputs": [],
   "source": []
  }
 ],
 "metadata": {
  "kernelspec": {
   "display_name": "Python 3 (ipykernel)",
   "language": "python",
   "name": "python3"
  },
  "language_info": {
   "codemirror_mode": {
    "name": "ipython",
    "version": 3
   },
   "file_extension": ".py",
   "mimetype": "text/x-python",
   "name": "python",
   "nbconvert_exporter": "python",
   "pygments_lexer": "ipython3",
   "version": "3.12.7"
  }
 },
 "nbformat": 4,
 "nbformat_minor": 5
}
