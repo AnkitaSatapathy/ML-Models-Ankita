{
 "cells": [
  {
   "cell_type": "code",
   "execution_count": 92,
   "id": "e51ed735-c83b-4d34-980f-1e38acb8a77a",
   "metadata": {},
   "outputs": [],
   "source": [
    "import numpy as np\n",
    "from sklearn.datasets import load_diabetes\n",
    "import pickle\n",
    "\n",
    "class SimpleLinearRegressionCustom:\n",
    "    def __init__(self, learning_rate=0.01, epochs=1000):\n",
    "        self.learning_rate = learning_rate\n",
    "        self.epochs = epochs\n",
    "        self.weight = 0\n",
    "        self.bias = 0\n",
    "\n",
    "    def fit(self, X, y):\n",
    "        n = len(X)\n",
    "        for _ in range(self.epochs):\n",
    "            y_pred = self.weight * X + self.bias\n",
    "            error = y_pred - y\n",
    "\n",
    "            dW = (2/n) * np.dot(X, error)\n",
    "            dB = (2/n) * np.sum(error)\n",
    "\n",
    "            self.weight -= self.learning_rate * dW\n",
    "            self.bias -= self.learning_rate * dB\n",
    "\n",
    "    def predict(self, X):\n",
    "        return self.weight * X + self.bias\n",
    "\n",
    "\n",
    "diabetes = load_diabetes()\n",
    "X = diabetes.data[:, np.newaxis, 2]  \n",
    "y = diabetes.target\n",
    "\n",
    "model = SimpleLinearRegressionCustom()\n",
    "model.fit(X.flatten(), y)\n",
    "\n",
    "\n",
    "with open(\"model.pkl\", \"wb\") as file:\n",
    "    pickle.dump(model, file)"
   ]
  },
  {
   "cell_type": "code",
   "execution_count": null,
   "id": "17c8de8a-27c9-4d84-bbe7-28f2123495e9",
   "metadata": {},
   "outputs": [],
   "source": []
  }
 ],
 "metadata": {
  "kernelspec": {
   "display_name": "Python 3 (ipykernel)",
   "language": "python",
   "name": "python3"
  },
  "language_info": {
   "codemirror_mode": {
    "name": "ipython",
    "version": 3
   },
   "file_extension": ".py",
   "mimetype": "text/x-python",
   "name": "python",
   "nbconvert_exporter": "python",
   "pygments_lexer": "ipython3",
   "version": "3.12.7"
  }
 },
 "nbformat": 4,
 "nbformat_minor": 5
}
