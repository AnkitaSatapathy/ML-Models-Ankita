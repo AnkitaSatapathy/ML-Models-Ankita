{
 "cells": [
  {
   "cell_type": "code",
   "execution_count": null,
   "id": "bd8329e7-d307-4235-9db1-3f8a2fda7e7b",
   "metadata": {},
   "outputs": [],
   "source": [
    "import numpy as np\n",
    "import pandas as pd\n",
    "import pickle\n",
    "from sklearn.model_selection import train_test_split\n",
    "from sklearn.preprocessing import StandardScaler\n",
    "\n",
    "url = \"https://raw.githubusercontent.com/datasciencedojo/datasets/master/titanic.csv\"\n",
    "df = pd.read_csv(url)\n",
    "\n",
    "df = df[[\"Pclass\", \"Age\", \"SibSp\", \"Parch\", \"Fare\", \"Survived\"]].dropna()\n",
    "\n",
    "X = df[[\"Pclass\", \"Age\", \"SibSp\", \"Parch\", \"Fare\"]].values\n",
    "y = df[\"Survived\"].values  \n",
    "\n",
    "scaler = StandardScaler()\n",
    "X = scaler.fit_transform(X)\n",
    "\n",
    "X_train, X_test, y_train, y_test = train_test_split(X, y, test_size=0.2, random_state=42)\n",
    "\n",
    "class CustomSVM:\n",
    "    def __init__(self, learning_rate=0.001, lambda_param=0.01, epochs=1000):\n",
    "        self.learning_rate = learning_rate\n",
    "        self.lambda_param = lambda_param\n",
    "        self.epochs = epochs\n",
    "        self.w = None\n",
    "        self.b = None\n",
    "    def fit(self, X, y):\n",
    "        \"\"\"Train the SVM model using gradient descent\"\"\"\n",
    "        n_samples, n_features = X.shape\n",
    "        y_transformed = np.where(y == 0, -1, 1)  \n",
    "        self.w = np.zeros(n_features)\n",
    "        self.b = 0\n",
    "        for _ in range(self.epochs):\n",
    "            for idx, x_i in enumerate(X):\n",
    "                condition = y_transformed[idx] * (np.dot(x_i, self.w) - self.b) >= 1\n",
    "                if condition:\n",
    "                    self.w -= self.learning_rate * (2 * self.lambda_param * self.w)\n",
    "                else:\n",
    "                    self.w -= self.learning_rate * (2 * self.lambda_param * self.w - np.dot(x_i, y_transformed[idx]))\n",
    "                    self.b -= self.learning_rate * y_transformed[idx]\n",
    "    def predict(self, X):\n",
    "        \"\"\"Predict class labels\"\"\"\n",
    "        predictions = np.dot(X, self.w) - self.b\n",
    "        return np.where(predictions >= 0, 1, 0)\n",
    "\n",
    "svm = CustomSVM()\n",
    "svm.fit(X_train, y_train)\n",
    "\n",
    "with open(\"svm_titanic_model.pkl\", \"wb\") as f:\n",
    "    pickle.dump({\"model\": svm, \"scaler\": scaler}, f)\n",
    "\n"
   ]
  },
  {
   "cell_type": "code",
   "execution_count": null,
   "id": "fccbdedc-b14f-49fc-a878-2959aae5aa9b",
   "metadata": {},
   "outputs": [],
   "source": []
  }
 ],
 "metadata": {
  "kernelspec": {
   "display_name": "Python 3 (ipykernel)",
   "language": "python",
   "name": "python3"
  },
  "language_info": {
   "codemirror_mode": {
    "name": "ipython",
    "version": 3
   },
   "file_extension": ".py",
   "mimetype": "text/x-python",
   "name": "python",
   "nbconvert_exporter": "python",
   "pygments_lexer": "ipython3",
   "version": "3.12.7"
  }
 },
 "nbformat": 4,
 "nbformat_minor": 5
}
